{
 "cells": [
  {
   "cell_type": "code",
   "execution_count": 1,
   "id": "cdc3a65d-1307-4fd3-b2d0-b0fe76209c0c",
   "metadata": {},
   "outputs": [],
   "source": [
    "import numpy as np\n",
    "import pandas as pd\n",
    "import seaborn as sns\n",
    "import matplotlib.pyplot as plt"
   ]
  },
  {
   "cell_type": "code",
   "execution_count": 2,
   "id": "fbfed78a-25ab-45e6-9adf-1d51213b790b",
   "metadata": {},
   "outputs": [
    {
     "data": {
      "text/html": [
       "<div>\n",
       "<style scoped>\n",
       "    .dataframe tbody tr th:only-of-type {\n",
       "        vertical-align: middle;\n",
       "    }\n",
       "\n",
       "    .dataframe tbody tr th {\n",
       "        vertical-align: top;\n",
       "    }\n",
       "\n",
       "    .dataframe thead th {\n",
       "        text-align: right;\n",
       "    }\n",
       "</style>\n",
       "<table border=\"1\" class=\"dataframe\">\n",
       "  <thead>\n",
       "    <tr style=\"text-align: right;\">\n",
       "      <th></th>\n",
       "      <th>Отказы</th>\n",
       "      <th>empty</th>\n",
       "    </tr>\n",
       "    <tr>\n",
       "      <th>Период</th>\n",
       "      <th></th>\n",
       "      <th></th>\n",
       "    </tr>\n",
       "  </thead>\n",
       "  <tbody>\n",
       "    <tr>\n",
       "      <th>2018-11-04</th>\n",
       "      <td>0.205882</td>\n",
       "      <td>NaN</td>\n",
       "    </tr>\n",
       "    <tr>\n",
       "      <th>2018-11-05</th>\n",
       "      <td>0.172414</td>\n",
       "      <td>NaN</td>\n",
       "    </tr>\n",
       "    <tr>\n",
       "      <th>2018-11-06</th>\n",
       "      <td>0.201835</td>\n",
       "      <td>NaN</td>\n",
       "    </tr>\n",
       "    <tr>\n",
       "      <th>2018-11-07</th>\n",
       "      <td>0.157303</td>\n",
       "      <td>NaN</td>\n",
       "    </tr>\n",
       "    <tr>\n",
       "      <th>2018-11-08</th>\n",
       "      <td>0.239669</td>\n",
       "      <td>NaN</td>\n",
       "    </tr>\n",
       "    <tr>\n",
       "      <th>...</th>\n",
       "      <td>...</td>\n",
       "      <td>...</td>\n",
       "    </tr>\n",
       "    <tr>\n",
       "      <th>2023-10-30</th>\n",
       "      <td>0.243056</td>\n",
       "      <td>NaN</td>\n",
       "    </tr>\n",
       "    <tr>\n",
       "      <th>2023-10-31</th>\n",
       "      <td>0.184397</td>\n",
       "      <td>NaN</td>\n",
       "    </tr>\n",
       "    <tr>\n",
       "      <th>2023-11-01</th>\n",
       "      <td>0.273885</td>\n",
       "      <td>NaN</td>\n",
       "    </tr>\n",
       "    <tr>\n",
       "      <th>2023-11-02</th>\n",
       "      <td>0.148148</td>\n",
       "      <td>NaN</td>\n",
       "    </tr>\n",
       "    <tr>\n",
       "      <th>2023-11-03</th>\n",
       "      <td>0.342857</td>\n",
       "      <td>NaN</td>\n",
       "    </tr>\n",
       "  </tbody>\n",
       "</table>\n",
       "<p>1826 rows × 2 columns</p>\n",
       "</div>"
      ],
      "text/plain": [
       "              Отказы  empty\n",
       "Период                     \n",
       "2018-11-04  0.205882    NaN\n",
       "2018-11-05  0.172414    NaN\n",
       "2018-11-06  0.201835    NaN\n",
       "2018-11-07  0.157303    NaN\n",
       "2018-11-08  0.239669    NaN\n",
       "...              ...    ...\n",
       "2023-10-30  0.243056    NaN\n",
       "2023-10-31  0.184397    NaN\n",
       "2023-11-01  0.273885    NaN\n",
       "2023-11-02  0.148148    NaN\n",
       "2023-11-03  0.342857    NaN\n",
       "\n",
       "[1826 rows x 2 columns]"
      ]
     },
     "execution_count": 2,
     "metadata": {},
     "output_type": "execute_result"
    }
   ],
   "source": [
    "df_attend_refuses = pd.read_csv(\n",
    "    r\"..\\data\\посещаемость\\График_для_www.pan-stp.com-Посещаемость_отказы_за_5_лет.csv\", \n",
    "    parse_dates = ['Период'],\n",
    "    index_col='Период'\n",
    ")\n",
    "df_attend_refuses"
   ]
  },
  {
   "cell_type": "code",
   "execution_count": 3,
   "id": "c344dc0e-bf39-4aa0-bf33-d90cd9a0af6e",
   "metadata": {},
   "outputs": [],
   "source": [
    "df_attend_refuses.drop([\"empty\"], axis=1, inplace=True)"
   ]
  },
  {
   "cell_type": "code",
   "execution_count": 4,
   "id": "077e19be-3bfc-4d2a-9e57-6eeadc39ff02",
   "metadata": {},
   "outputs": [
    {
     "data": {
      "text/html": [
       "<div>\n",
       "<style scoped>\n",
       "    .dataframe tbody tr th:only-of-type {\n",
       "        vertical-align: middle;\n",
       "    }\n",
       "\n",
       "    .dataframe tbody tr th {\n",
       "        vertical-align: top;\n",
       "    }\n",
       "\n",
       "    .dataframe thead th {\n",
       "        text-align: right;\n",
       "    }\n",
       "</style>\n",
       "<table border=\"1\" class=\"dataframe\">\n",
       "  <thead>\n",
       "    <tr style=\"text-align: right;\">\n",
       "      <th></th>\n",
       "      <th>Просмотры</th>\n",
       "      <th>na</th>\n",
       "    </tr>\n",
       "    <tr>\n",
       "      <th>Период</th>\n",
       "      <th></th>\n",
       "      <th></th>\n",
       "    </tr>\n",
       "  </thead>\n",
       "  <tbody>\n",
       "    <tr>\n",
       "      <th>2018-11-03</th>\n",
       "      <td>318</td>\n",
       "      <td>NaN</td>\n",
       "    </tr>\n",
       "    <tr>\n",
       "      <th>2018-11-04</th>\n",
       "      <td>297</td>\n",
       "      <td>NaN</td>\n",
       "    </tr>\n",
       "    <tr>\n",
       "      <th>2018-11-05</th>\n",
       "      <td>378</td>\n",
       "      <td>NaN</td>\n",
       "    </tr>\n",
       "    <tr>\n",
       "      <th>2018-11-06</th>\n",
       "      <td>330</td>\n",
       "      <td>NaN</td>\n",
       "    </tr>\n",
       "    <tr>\n",
       "      <th>2018-11-07</th>\n",
       "      <td>256</td>\n",
       "      <td>NaN</td>\n",
       "    </tr>\n",
       "    <tr>\n",
       "      <th>...</th>\n",
       "      <td>...</td>\n",
       "      <td>...</td>\n",
       "    </tr>\n",
       "    <tr>\n",
       "      <th>2023-10-29</th>\n",
       "      <td>287</td>\n",
       "      <td>NaN</td>\n",
       "    </tr>\n",
       "    <tr>\n",
       "      <th>2023-10-30</th>\n",
       "      <td>340</td>\n",
       "      <td>NaN</td>\n",
       "    </tr>\n",
       "    <tr>\n",
       "      <th>2023-10-31</th>\n",
       "      <td>353</td>\n",
       "      <td>NaN</td>\n",
       "    </tr>\n",
       "    <tr>\n",
       "      <th>2023-11-01</th>\n",
       "      <td>410</td>\n",
       "      <td>NaN</td>\n",
       "    </tr>\n",
       "    <tr>\n",
       "      <th>2023-11-02</th>\n",
       "      <td>42</td>\n",
       "      <td>NaN</td>\n",
       "    </tr>\n",
       "  </tbody>\n",
       "</table>\n",
       "<p>1826 rows × 2 columns</p>\n",
       "</div>"
      ],
      "text/plain": [
       "            Просмотры  na\n",
       "Период                   \n",
       "2018-11-03        318 NaN\n",
       "2018-11-04        297 NaN\n",
       "2018-11-05        378 NaN\n",
       "2018-11-06        330 NaN\n",
       "2018-11-07        256 NaN\n",
       "...               ...  ..\n",
       "2023-10-29        287 NaN\n",
       "2023-10-30        340 NaN\n",
       "2023-10-31        353 NaN\n",
       "2023-11-01        410 NaN\n",
       "2023-11-02         42 NaN\n",
       "\n",
       "[1826 rows x 2 columns]"
      ]
     },
     "execution_count": 4,
     "metadata": {},
     "output_type": "execute_result"
    }
   ],
   "source": [
    "df_attend_views = pd.read_csv(\n",
    "    r\"..\\data\\посещаемость\\График_для_www.pan-stp.com-Посещаемост(просмотры за 5 лет).csv\", \n",
    "    parse_dates = ['Период'],\n",
    "    index_col='Период'\n",
    ")\n",
    "df_attend_views"
   ]
  },
  {
   "cell_type": "code",
   "execution_count": 5,
   "id": "96b883fa-7936-4a3a-9323-e85656dec1b7",
   "metadata": {},
   "outputs": [],
   "source": [
    "df_attend_views.drop([\"na\"], axis=1, inplace=True)"
   ]
  },
  {
   "cell_type": "code",
   "execution_count": 6,
   "id": "50c3f364-82d7-461b-830b-4c420f5a99ba",
   "metadata": {},
   "outputs": [
    {
     "data": {
      "text/html": [
       "<div>\n",
       "<style scoped>\n",
       "    .dataframe tbody tr th:only-of-type {\n",
       "        vertical-align: middle;\n",
       "    }\n",
       "\n",
       "    .dataframe tbody tr th {\n",
       "        vertical-align: top;\n",
       "    }\n",
       "\n",
       "    .dataframe thead th {\n",
       "        text-align: right;\n",
       "    }\n",
       "</style>\n",
       "<table border=\"1\" class=\"dataframe\">\n",
       "  <thead>\n",
       "    <tr style=\"text-align: right;\">\n",
       "      <th></th>\n",
       "      <th>Просмотры</th>\n",
       "    </tr>\n",
       "  </thead>\n",
       "  <tbody>\n",
       "    <tr>\n",
       "      <th>count</th>\n",
       "      <td>1826.000000</td>\n",
       "    </tr>\n",
       "    <tr>\n",
       "      <th>mean</th>\n",
       "      <td>311.243154</td>\n",
       "    </tr>\n",
       "    <tr>\n",
       "      <th>std</th>\n",
       "      <td>162.798677</td>\n",
       "    </tr>\n",
       "    <tr>\n",
       "      <th>min</th>\n",
       "      <td>0.000000</td>\n",
       "    </tr>\n",
       "    <tr>\n",
       "      <th>25%</th>\n",
       "      <td>193.000000</td>\n",
       "    </tr>\n",
       "    <tr>\n",
       "      <th>50%</th>\n",
       "      <td>298.000000</td>\n",
       "    </tr>\n",
       "    <tr>\n",
       "      <th>75%</th>\n",
       "      <td>410.000000</td>\n",
       "    </tr>\n",
       "    <tr>\n",
       "      <th>max</th>\n",
       "      <td>1137.000000</td>\n",
       "    </tr>\n",
       "  </tbody>\n",
       "</table>\n",
       "</div>"
      ],
      "text/plain": [
       "         Просмотры\n",
       "count  1826.000000\n",
       "mean    311.243154\n",
       "std     162.798677\n",
       "min       0.000000\n",
       "25%     193.000000\n",
       "50%     298.000000\n",
       "75%     410.000000\n",
       "max    1137.000000"
      ]
     },
     "execution_count": 6,
     "metadata": {},
     "output_type": "execute_result"
    }
   ],
   "source": [
    "df_attend_views.describe()"
   ]
  },
  {
   "cell_type": "code",
   "execution_count": 7,
   "id": "ad1387d3-a715-48f5-be76-faa7586e5cb6",
   "metadata": {},
   "outputs": [
    {
     "data": {
      "text/html": [
       "<div>\n",
       "<style scoped>\n",
       "    .dataframe tbody tr th:only-of-type {\n",
       "        vertical-align: middle;\n",
       "    }\n",
       "\n",
       "    .dataframe tbody tr th {\n",
       "        vertical-align: top;\n",
       "    }\n",
       "\n",
       "    .dataframe thead th {\n",
       "        text-align: right;\n",
       "    }\n",
       "</style>\n",
       "<table border=\"1\" class=\"dataframe\">\n",
       "  <thead>\n",
       "    <tr style=\"text-align: right;\">\n",
       "      <th></th>\n",
       "      <th>Отказы</th>\n",
       "      <th>Просмотры</th>\n",
       "    </tr>\n",
       "    <tr>\n",
       "      <th>Период</th>\n",
       "      <th></th>\n",
       "      <th></th>\n",
       "    </tr>\n",
       "  </thead>\n",
       "  <tbody>\n",
       "    <tr>\n",
       "      <th>2018-11-04</th>\n",
       "      <td>0.205882</td>\n",
       "      <td>297</td>\n",
       "    </tr>\n",
       "    <tr>\n",
       "      <th>2018-11-05</th>\n",
       "      <td>0.172414</td>\n",
       "      <td>378</td>\n",
       "    </tr>\n",
       "    <tr>\n",
       "      <th>2018-11-06</th>\n",
       "      <td>0.201835</td>\n",
       "      <td>330</td>\n",
       "    </tr>\n",
       "    <tr>\n",
       "      <th>2018-11-07</th>\n",
       "      <td>0.157303</td>\n",
       "      <td>256</td>\n",
       "    </tr>\n",
       "    <tr>\n",
       "      <th>2018-11-08</th>\n",
       "      <td>0.239669</td>\n",
       "      <td>375</td>\n",
       "    </tr>\n",
       "    <tr>\n",
       "      <th>...</th>\n",
       "      <td>...</td>\n",
       "      <td>...</td>\n",
       "    </tr>\n",
       "    <tr>\n",
       "      <th>2023-10-29</th>\n",
       "      <td>0.229358</td>\n",
       "      <td>287</td>\n",
       "    </tr>\n",
       "    <tr>\n",
       "      <th>2023-10-30</th>\n",
       "      <td>0.243056</td>\n",
       "      <td>340</td>\n",
       "    </tr>\n",
       "    <tr>\n",
       "      <th>2023-10-31</th>\n",
       "      <td>0.184397</td>\n",
       "      <td>353</td>\n",
       "    </tr>\n",
       "    <tr>\n",
       "      <th>2023-11-01</th>\n",
       "      <td>0.273885</td>\n",
       "      <td>410</td>\n",
       "    </tr>\n",
       "    <tr>\n",
       "      <th>2023-11-02</th>\n",
       "      <td>0.148148</td>\n",
       "      <td>42</td>\n",
       "    </tr>\n",
       "  </tbody>\n",
       "</table>\n",
       "<p>1825 rows × 2 columns</p>\n",
       "</div>"
      ],
      "text/plain": [
       "              Отказы  Просмотры\n",
       "Период                         \n",
       "2018-11-04  0.205882        297\n",
       "2018-11-05  0.172414        378\n",
       "2018-11-06  0.201835        330\n",
       "2018-11-07  0.157303        256\n",
       "2018-11-08  0.239669        375\n",
       "...              ...        ...\n",
       "2023-10-29  0.229358        287\n",
       "2023-10-30  0.243056        340\n",
       "2023-10-31  0.184397        353\n",
       "2023-11-01  0.273885        410\n",
       "2023-11-02  0.148148         42\n",
       "\n",
       "[1825 rows x 2 columns]"
      ]
     },
     "execution_count": 7,
     "metadata": {},
     "output_type": "execute_result"
    }
   ],
   "source": [
    "df = df_attend_refuses.merge(df_attend_views, left_index=True, right_index=True)\n",
    "df"
   ]
  },
  {
   "cell_type": "code",
   "execution_count": 8,
   "id": "8a1300dd-77fc-46e2-bb30-a850811d2d28",
   "metadata": {},
   "outputs": [
    {
     "data": {
      "text/html": [
       "<div>\n",
       "<style scoped>\n",
       "    .dataframe tbody tr th:only-of-type {\n",
       "        vertical-align: middle;\n",
       "    }\n",
       "\n",
       "    .dataframe tbody tr th {\n",
       "        vertical-align: top;\n",
       "    }\n",
       "\n",
       "    .dataframe thead th {\n",
       "        text-align: right;\n",
       "    }\n",
       "</style>\n",
       "<table border=\"1\" class=\"dataframe\">\n",
       "  <thead>\n",
       "    <tr style=\"text-align: right;\">\n",
       "      <th></th>\n",
       "      <th>Отказы</th>\n",
       "    </tr>\n",
       "    <tr>\n",
       "      <th>Просмотры</th>\n",
       "      <th></th>\n",
       "    </tr>\n",
       "  </thead>\n",
       "  <tbody>\n",
       "    <tr>\n",
       "      <th>0</th>\n",
       "      <td>0.000000</td>\n",
       "    </tr>\n",
       "    <tr>\n",
       "      <th>1</th>\n",
       "      <td>0.000000</td>\n",
       "    </tr>\n",
       "    <tr>\n",
       "      <th>2</th>\n",
       "      <td>0.000000</td>\n",
       "    </tr>\n",
       "    <tr>\n",
       "      <th>4</th>\n",
       "      <td>0.250000</td>\n",
       "    </tr>\n",
       "    <tr>\n",
       "      <th>21</th>\n",
       "      <td>0.357143</td>\n",
       "    </tr>\n",
       "    <tr>\n",
       "      <th>...</th>\n",
       "      <td>...</td>\n",
       "    </tr>\n",
       "    <tr>\n",
       "      <th>938</th>\n",
       "      <td>0.258993</td>\n",
       "    </tr>\n",
       "    <tr>\n",
       "      <th>944</th>\n",
       "      <td>0.292683</td>\n",
       "    </tr>\n",
       "    <tr>\n",
       "      <th>985</th>\n",
       "      <td>0.442596</td>\n",
       "    </tr>\n",
       "    <tr>\n",
       "      <th>1001</th>\n",
       "      <td>0.220430</td>\n",
       "    </tr>\n",
       "    <tr>\n",
       "      <th>1137</th>\n",
       "      <td>0.503521</td>\n",
       "    </tr>\n",
       "  </tbody>\n",
       "</table>\n",
       "<p>599 rows × 1 columns</p>\n",
       "</div>"
      ],
      "text/plain": [
       "             Отказы\n",
       "Просмотры          \n",
       "0          0.000000\n",
       "1          0.000000\n",
       "2          0.000000\n",
       "4          0.250000\n",
       "21         0.357143\n",
       "...             ...\n",
       "938        0.258993\n",
       "944        0.292683\n",
       "985        0.442596\n",
       "1001       0.220430\n",
       "1137       0.503521\n",
       "\n",
       "[599 rows x 1 columns]"
      ]
     },
     "execution_count": 8,
     "metadata": {},
     "output_type": "execute_result"
    }
   ],
   "source": [
    "df_mean = df.groupby(by='Просмотры').mean()\n",
    "df_mean"
   ]
  },
  {
   "cell_type": "code",
   "execution_count": 9,
   "id": "a7c9512f-8516-4a26-b512-10e823117301",
   "metadata": {},
   "outputs": [],
   "source": [
    "df_mean['Просмотры']=df_mean.index"
   ]
  },
  {
   "cell_type": "code",
   "execution_count": 10,
   "id": "ceba9757-c230-41f0-9625-d276605b712a",
   "metadata": {},
   "outputs": [
    {
     "data": {
      "text/plain": [
       "<Axes: xlabel='Просмотры', ylabel='Отказы'>"
      ]
     },
     "execution_count": 10,
     "metadata": {},
     "output_type": "execute_result"
    },
    {
     "data": {
      "image/png": "[encoded data removed]",
      "text/plain": [
       "<Figure size 640x480 with 1 Axes>"
      ]
     },
     "metadata": {},
     "output_type": "display_data"
    }
   ],
   "source": [
    "df_mean.plot.scatter(x=\"Просмотры\", y=\"Отказы\")"
   ]
  },
  {
   "cell_type": "code",
   "execution_count": 11,
   "id": "7749f08f-3818-4400-95f2-041951fd2c2a",
   "metadata": {},
   "outputs": [
    {
     "name": "stdout",
     "output_type": "stream",
     "text": [
      "Requirement already satisfied: statsmodels in d:\\da_notebooks\\ve\\lib\\site-packages (0.14.0)\n",
      "Requirement already satisfied: numpy>=1.18 in d:\\da_notebooks\\ve\\lib\\site-packages (from statsmodels) (1.26.1)\n",
      "Requirement already satisfied: scipy!=1.9.2,>=1.4 in d:\\da_notebooks\\ve\\lib\\site-packages (from statsmodels) (1.11.3)\n",
      "Requirement already satisfied: pandas>=1.0 in d:\\da_notebooks\\ve\\lib\\site-packages (from statsmodels) (2.1.2)\n",
      "Requirement already satisfied: patsy>=0.5.2 in d:\\da_notebooks\\ve\\lib\\site-packages (from statsmodels) (0.5.3)\n",
      "Requirement already satisfied: packaging>=21.3 in d:\\da_notebooks\\ve\\lib\\site-packages (from statsmodels) (23.2)\n",
      "Requirement already satisfied: python-dateutil>=2.8.2 in d:\\da_notebooks\\ve\\lib\\site-packages (from pandas>=1.0->statsmodels) (2.8.2)\n",
      "Requirement already satisfied: pytz>=2020.1 in d:\\da_notebooks\\ve\\lib\\site-packages (from pandas>=1.0->statsmodels) (2023.3.post1)\n",
      "Requirement already satisfied: tzdata>=2022.1 in d:\\da_notebooks\\ve\\lib\\site-packages (from pandas>=1.0->statsmodels) (2023.3)\n",
      "Requirement already satisfied: six in d:\\da_notebooks\\ve\\lib\\site-packages (from patsy>=0.5.2->statsmodels) (1.16.0)\n"
     ]
    },
    {
     "name": "stderr",
     "output_type": "stream",
     "text": [
      "\n",
      "[notice] A new release of pip is available: 23.2.1 -> 23.3.1\n",
      "[notice] To update, run: python.exe -m pip install --upgrade pip\n"
     ]
    }
   ],
   "source": [
    "!pip install statsmodels"
   ]
  },
  {
   "cell_type": "code",
   "execution_count": 12,
   "id": "cf73ac84-545b-4f5d-a8f4-7d1f64c202b6",
   "metadata": {},
   "outputs": [],
   "source": [
    "import statsmodels.api as sm"
   ]
  },
  {
   "cell_type": "markdown",
   "id": "9237ac54-ac01-4eea-94fe-53f0a91c5c03",
   "metadata": {},
   "source": [
    "#### Подготовка данных для линейной модели"
   ]
  },
  {
   "cell_type": "code",
   "execution_count": 13,
   "id": "8b5cf84f-1103-4a6d-bed2-a5fc22782c51",
   "metadata": {},
   "outputs": [],
   "source": [
    "Y = df_mean['Отказы'] #выделяем столбец, по оси Y"
   ]
  },
  {
   "cell_type": "code",
   "execution_count": 14,
   "id": "ccd4974d-8803-481e-89e9-15d9707217f9",
   "metadata": {},
   "outputs": [],
   "source": [
    "X = df_mean['Просмотры']#выделяем столбец, по оси X"
   ]
  },
  {
   "cell_type": "code",
   "execution_count": 15,
   "id": "3ad20919-71ab-4636-a53d-69562146f743",
   "metadata": {},
   "outputs": [],
   "source": [
    "X = sm.add_constant(X) #добавляем константу к моделе (указываем,что линия должна быть константа перечечение с осью)"
   ]
  },
  {
   "cell_type": "code",
   "execution_count": 16,
   "id": "b1db3349-4909-479a-8a7c-fa247f7d4e2d",
   "metadata": {},
   "outputs": [
    {
     "data": {
      "text/plain": [
       "<statsmodels.regression.linear_model.OLS at 0x26199b4e5a0>"
      ]
     },
     "execution_count": 16,
     "metadata": {},
     "output_type": "execute_result"
    }
   ],
   "source": [
    "model = sm.OLS(Y,X)  #OLS- Ordinary least Squares-Обычная Линейная Регрессия (x-независимые переменные(x нас \"Просмотры\", y-зависимые(у нас \"Отказы\")),указываем на каких данных строится модель в скобках\n",
    "\n",
    "model"
   ]
  },
  {
   "cell_type": "code",
   "execution_count": 17,
   "id": "e7ed6cb1-7af9-4e5b-9699-3178457c4afc",
   "metadata": {},
   "outputs": [],
   "source": [
    "results = model.fit() #модель подбирает лучшие параметры на данных (модель запуститься и сама подерёт себя)"
   ]
  },
  {
   "cell_type": "code",
   "execution_count": 18,
   "id": "6113081b-88c0-4f88-90fc-e5babc044953",
   "metadata": {},
   "outputs": [
    {
     "data": {
      "text/plain": [
       "const        0.188455\n",
       "Просмотры    0.000115\n",
       "dtype: float64"
      ]
     },
     "execution_count": 18,
     "metadata": {},
     "output_type": "execute_result"
    }
   ],
   "source": [
    "ab = results.params #коэффициенты a и b(a-константа)\n",
    "ab"
   ]
  },
  {
   "cell_type": "code",
   "execution_count": 19,
   "id": "f12d583f-8aa0-4da6-8f92-f45fde7377e1",
   "metadata": {},
   "outputs": [],
   "source": [
    "a = ab['const'] # константа\n",
    "b = ab['Просмотры'] # коэффициент наклона линии"
   ]
  },
  {
   "cell_type": "code",
   "execution_count": 20,
   "id": "a4f4c30c-30a1-47af-9e5a-af03024bb053",
   "metadata": {},
   "outputs": [
    {
     "data": {
      "text/plain": [
       "0.18845461317628093"
      ]
     },
     "execution_count": 20,
     "metadata": {},
     "output_type": "execute_result"
    }
   ],
   "source": [
    "a"
   ]
  },
  {
   "cell_type": "code",
   "execution_count": 21,
   "id": "62ba3ac4-c9b8-49da-b445-d3c7a67b9c2b",
   "metadata": {},
   "outputs": [
    {
     "data": {
      "text/plain": [
       "0.00011463323267288226"
      ]
     },
     "execution_count": 21,
     "metadata": {},
     "output_type": "execute_result"
    }
   ],
   "source": [
    "b"
   ]
  },
  {
   "cell_type": "markdown",
   "id": "88455476-718a-44d9-91da-9215e79311d4",
   "metadata": {},
   "source": [
    "### Предсказание отказов по количеству посещений"
   ]
  },
  {
   "cell_type": "code",
   "execution_count": 40,
   "id": "8ae38abd-766b-4210-8151-c51018450865",
   "metadata": {},
   "outputs": [
    {
     "data": {
      "text/plain": [
       "[<matplotlib.lines.Line2D at 0x261a06977d0>]"
      ]
     },
     "execution_count": 40,
     "metadata": {},
     "output_type": "execute_result"
    },
    {
     "data": {
      "image/png": "[encoded data removed]",
      "text/plain": [
       "<Figure size 640x480 with 1 Axes>"
      ]
     },
     "metadata": {},
     "output_type": "display_data"
    }
   ],
   "source": [
    "ax= df_mean.plot.scatter(x=\"Просмотры\", y=\"Отказы\", title = \"Предсказание отказов по количеству посещений\", color = 'darkblue')\n",
    "xx = np.arange(0,df_mean['Просмотры'].max()+1)\n",
    "ax.plot(xx,a+b*xx, color = 'red' ) #формула линейной регрессии: a+b*xx, т.к.это векторизация, то по элементам выполнится для каждого х(по оси X-откладываем X, по оси Y откладываем bx)-формула линейного графика, линии."
   ]
  },
  {
   "cell_type": "markdown",
   "id": "a79d3fa9-be87-4178-8d6a-876447c00c64",
   "metadata": {},
   "source": [
    "### Вывод: количество отказов при увеличении количества посетителей по предсказанию возрастает (от 20% до 30% при 1000 посетителей). Если вебсайт хороший, то красная кривая будет иметь горизонтальное расположение или опускаться вниз, от посещаемости отказы не должны зависеть обычно, если только есть какие-то неконтролируемые причины."
   ]
  },
  {
   "cell_type": "code",
   "execution_count": null,
   "id": "a057187e-951b-40db-9e09-4023e3d3ccb7",
   "metadata": {},
   "outputs": [],
   "source": []
  }
 ],
 "metadata": {
  "kernelspec": {
   "display_name": "Python 3 (ipykernel)",
   "language": "python",
   "name": "python3"
  },
  "language_info": {
   "codemirror_mode": {
    "name": "ipython",
    "version": 3
   },
   "file_extension": ".py",
   "mimetype": "text/x-python",
   "name": "python",
   "nbconvert_exporter": "python",
   "pygments_lexer": "ipython3",
   "version": "3.12.0"
  }
 },
 "nbformat": 4,
 "nbformat_minor": 5
}
